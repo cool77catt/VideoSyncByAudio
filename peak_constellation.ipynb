{
 "cells": [
  {
   "cell_type": "markdown",
   "id": "45c86808",
   "metadata": {},
   "source": [
    "# Results Summary\n",
    "Implemented the algorithm by Allison Deal (https://github.com/allisonnicoledeal/VideoSync)\n",
    "\n",
    "Results and visual inspection show the following delays:\n",
    "\n",
    "+43.1 s => yt5s.com-Highway Tune-Greta Van Fleet-Red Rocks.wav\n",
    "\n",
    "+5.18 s => yt5s.com-Greta van Fleet at Red Rocks - Highway Tune.wav\n",
    "\n",
    "+0       => yt5s.com-Greta Van Fleet - Highway Tune - 09-23-2019 Red Rocks.wav"
   ]
  },
  {
   "cell_type": "code",
   "execution_count": 20,
   "id": "ef84c865",
   "metadata": {},
   "outputs": [
    {
     "name": "stdout",
     "output_type": "stream",
     "text": [
      "loading yt5s.com-Highway Tune-Greta Van Fleet-Red Rocks.mp4\n",
      "Audio File already saved\n",
      "loading yt5s.com-Greta Van Fleet - Highway Tune - 09-23-2019 Red Rocks.mp4\n",
      "Audio File already saved\n",
      "loading yt5s.com-Greta van Fleet at Red Rocks - Highway Tune.mp4\n",
      "Audio File already saved\n"
     ]
    }
   ],
   "source": [
    "\n",
    "TEST_FILE_DIR = 'test-clips/greta-van-fleet'\n",
    "VIDEO_TYPES = ['*.mp4']\n",
    "AUDIO_TYPE = '.wav'\n",
    "TMP_DIR = 'tmp'\n",
    "if not os.path.exists(TMP_DIR):\n",
    "    os.mkdir(TMP_DIR)\n",
    "  \n",
    "\n",
    "\n",
    "videos = []\n",
    "audios = []\n",
    "for fn in os.listdir(TEST_FILE_DIR):\n",
    "    if any([fnmatch.fnmatch(fn, t) for t in VIDEO_TYPES]):\n",
    "        print(f'loading {fn}')\n",
    "\n",
    "        full_path = os.path.join(TEST_FILE_DIR, fn)\n",
    "        clip = mp.VideoFileClip(full_path)\n",
    "        videos.append(clip)\n",
    "\n",
    "        # Save to temp audio file\n",
    "        audio_fn = os.path.splitext(fn)[0] + AUDIO_TYPE\n",
    "        audio_path = os.path.join(TMP_DIR, audio_fn)\n",
    "        if os.path.exists(audio_path):\n",
    "            print('Audio File already saved')\n",
    "        else:\n",
    "            print('Saving to temp path')\n",
    "            clip.audio.write_audiofile(audio_path)\n",
    "    \n",
    "        # Read the Audio\n",
    "        rate, data = scipy.io.wavfile.read(audio_path)\n",
    "        ch1 = np.array([d[0] for d in data])\n",
    "        ch2 = np.array([d[1] for d in data])\n",
    "\n",
    "        ch1_float = ch1.astype(np.float32)\n",
    "        if ch1.dtype == 'int16':\n",
    "            ch1_float = ch1_float / (2 ** 15)\n",
    "\n",
    "        audios.append({\n",
    "            'data': ch1,\n",
    "            'data_float': ch1_float,\n",
    "            'rate': rate,\n",
    "            'path': audio_path\n",
    "        })"
   ]
  },
  {
   "cell_type": "code",
   "execution_count": 5,
   "id": "423c3af7",
   "metadata": {},
   "outputs": [],
   "source": [
    "def make_horiz_bins(data, fft_bin_size, overlap, box_height):\n",
    "    horiz_bins = {}\n",
    "    # process first sample and set matrix height\n",
    "    sample_data = data[0:fft_bin_size]  # get data for first sample\n",
    "    if (len(sample_data) == fft_bin_size):  # if there are enough audio points left to create a full fft bin\n",
    "        intensities = fourier(sample_data)  # intensities is list of fft results\n",
    "        for i in range(len(intensities)):\n",
    "            box_y = int(i/box_height)\n",
    "            if box_y in horiz_bins:\n",
    "                horiz_bins[box_y].append((intensities[i], 0, i))  # (intensity, x, y)\n",
    "            else:\n",
    "                horiz_bins[box_y] = [(intensities[i], 0, i)]\n",
    "    # process remainder of samples\n",
    "    x_coord_counter = 1  # starting at second sample, with x index 1\n",
    "    for j in range(int(fft_bin_size - overlap), len(data), int(fft_bin_size-overlap)):\n",
    "        sample_data = data[j:j + fft_bin_size]\n",
    "        if (len(sample_data) == fft_bin_size):\n",
    "            intensities = fourier(sample_data)\n",
    "            for k in range(len(intensities)):\n",
    "                box_y = int(k/box_height)\n",
    "                if box_y in horiz_bins:\n",
    "                    horiz_bins[box_y].append((intensities[k], x_coord_counter, k))  # (intensity, x, y)\n",
    "                else:\n",
    "                    horiz_bins[box_y] = [(intensities[k], x_coord_counter, k)]\n",
    "        x_coord_counter += 1\n",
    "\n",
    "    return horiz_bins\n",
    "\n",
    "\n",
    "def fourier(sample):  #, overlap):\n",
    "    return np.abs(np.fft.rfft(sample))"
   ]
  },
  {
   "cell_type": "code",
   "execution_count": null,
   "id": "bbf76168",
   "metadata": {},
   "outputs": [],
   "source": []
  },
  {
   "cell_type": "code",
   "execution_count": null,
   "id": "9719956e",
   "metadata": {},
   "outputs": [],
   "source": []
  },
  {
   "cell_type": "code",
   "execution_count": 7,
   "id": "0a34741e",
   "metadata": {},
   "outputs": [],
   "source": [
    "def make_vert_bins(horiz_bins, box_width):\n",
    "    boxes = {}\n",
    "    for key in horiz_bins.keys():\n",
    "        for i in range(len(horiz_bins[key])):\n",
    "            box_x = int(horiz_bins[key][i][1] / box_width)\n",
    "            if (box_x,key) in boxes:\n",
    "                boxes[(box_x,key)].append((horiz_bins[key][i]))\n",
    "            else:\n",
    "                boxes[(box_x,key)] = [(horiz_bins[key][i])]\n",
    "\n",
    "    return boxes"
   ]
  },
  {
   "cell_type": "code",
   "execution_count": null,
   "id": "811a42fe",
   "metadata": {},
   "outputs": [],
   "source": []
  },
  {
   "cell_type": "code",
   "execution_count": null,
   "id": "8e496732",
   "metadata": {},
   "outputs": [],
   "source": []
  },
  {
   "cell_type": "code",
   "execution_count": 11,
   "id": "0b041b77",
   "metadata": {},
   "outputs": [],
   "source": [
    "def find_bin_max(boxes, maxes_per_box):\n",
    "    freqs_dict = {}\n",
    "    for key in boxes.keys():\n",
    "        max_intensities = [(1,2,3)]\n",
    "        for i in range(len(boxes[key])):\n",
    "            if boxes[key][i][0] > min(max_intensities)[0]:\n",
    "                if len(max_intensities) < maxes_per_box:  # add if < number of points per box\n",
    "                    max_intensities.append(boxes[key][i])\n",
    "                else:  # else add new number and remove min\n",
    "                    max_intensities.append(boxes[key][i])\n",
    "                    max_intensities.remove(min(max_intensities))\n",
    "        for j in range(len(max_intensities)):\n",
    "            if max_intensities[j][2] in freqs_dict:\n",
    "                freqs_dict[max_intensities[j][2]].append(max_intensities[j][1])\n",
    "            else:\n",
    "                freqs_dict[max_intensities[j][2]] = [max_intensities[j][1]]\n",
    "\n",
    "    return freqs_dict"
   ]
  },
  {
   "cell_type": "code",
   "execution_count": null,
   "id": "1fc0b735",
   "metadata": {},
   "outputs": [],
   "source": []
  },
  {
   "cell_type": "code",
   "execution_count": null,
   "id": "ca132634",
   "metadata": {},
   "outputs": [],
   "source": []
  },
  {
   "cell_type": "code",
   "execution_count": 13,
   "id": "51e18f7e",
   "metadata": {},
   "outputs": [],
   "source": [
    "def find_freq_pairs(freqs_dict_orig, freqs_dict_sample):\n",
    "    time_pairs = []\n",
    "    for key in freqs_dict_sample.keys():  # iterate through freqs in sample\n",
    "        if key in freqs_dict_orig:  # if same sample occurs in base\n",
    "            for i in range(len(freqs_dict_sample[key])):  # determine time offset\n",
    "                for j in range(len(freqs_dict_orig[key])):\n",
    "                    time_pairs.append((freqs_dict_sample[key][i], freqs_dict_orig[key][j]))\n",
    "\n",
    "    return time_pairs"
   ]
  },
  {
   "cell_type": "code",
   "execution_count": null,
   "id": "6aa04d61",
   "metadata": {},
   "outputs": [],
   "source": []
  },
  {
   "cell_type": "code",
   "execution_count": null,
   "id": "ee81bd87",
   "metadata": {},
   "outputs": [],
   "source": []
  },
  {
   "cell_type": "code",
   "execution_count": 18,
   "id": "90e0dad7",
   "metadata": {},
   "outputs": [],
   "source": [
    "def find_delay(time_pairs):\n",
    "    t_diffs = {}\n",
    "    for i in range(len(time_pairs)):\n",
    "        delta_t = time_pairs[i][0] - time_pairs[i][1]\n",
    "        if delta_t in t_diffs:\n",
    "            t_diffs[delta_t] += 1\n",
    "        else:\n",
    "            t_diffs[delta_t] = 1\n",
    "    t_diffs_sorted = sorted(t_diffs.items(), key=lambda x: x[1])\n",
    "    time_delay = t_diffs_sorted[-1][0]\n",
    "\n",
    "    return time_delay"
   ]
  },
  {
   "cell_type": "code",
   "execution_count": 49,
   "id": "7c01407d",
   "metadata": {},
   "outputs": [
    {
     "name": "stdout",
     "output_type": "stream",
     "text": [
      "2\n",
      "dict_keys([0, 1])\n"
     ]
    }
   ],
   "source": [
    "# h1 = make_horiz_bins(audios[0]['data'][:44100*120], 1024, 0, 512)\n",
    "# h2 = make_horiz_bins(audios[1]['data'][:44100*60], 1024, 0, 512)\n",
    "h1 = make_horiz_bins(audios[1]['data'], 1024, 0, 512)\n",
    "h2 = make_horiz_bins(audios[2]['data'], 1024, 0, 512)\n"
   ]
  },
  {
   "cell_type": "code",
   "execution_count": 54,
   "id": "6e319e33",
   "metadata": {},
   "outputs": [
    {
     "data": {
      "text/plain": [
       "11372"
      ]
     },
     "execution_count": 54,
     "metadata": {},
     "output_type": "execute_result"
    }
   ],
   "source": [
    "\n",
    "len(h1[1])"
   ]
  },
  {
   "cell_type": "code",
   "execution_count": 42,
   "id": "eeac8769",
   "metadata": {},
   "outputs": [],
   "source": [
    "v1 = make_vert_bins(h1, 43)\n",
    "v2 = make_vert_bins(h2, 43)"
   ]
  },
  {
   "cell_type": "code",
   "execution_count": 52,
   "id": "1d7287d3",
   "metadata": {},
   "outputs": [
    {
     "data": {
      "text/plain": [
       "dict_keys([(0, 0), (1, 0), (2, 0), (3, 0), (4, 0), (5, 0), (6, 0), (7, 0), (8, 0), (9, 0), (10, 0), (11, 0), (12, 0), (13, 0), (14, 0), (15, 0), (16, 0), (17, 0), (18, 0), (19, 0), (20, 0), (21, 0), (22, 0), (23, 0), (24, 0), (25, 0), (26, 0), (27, 0), (28, 0), (29, 0), (30, 0), (31, 0), (32, 0), (33, 0), (34, 0), (35, 0), (36, 0), (37, 0), (38, 0), (39, 0), (40, 0), (41, 0), (42, 0), (43, 0), (44, 0), (45, 0), (46, 0), (47, 0), (48, 0), (49, 0), (50, 0), (51, 0), (52, 0), (53, 0), (54, 0), (55, 0), (56, 0), (57, 0), (58, 0), (59, 0), (60, 0), (61, 0), (62, 0), (63, 0), (64, 0), (65, 0), (66, 0), (67, 0), (68, 0), (69, 0), (70, 0), (71, 0), (72, 0), (73, 0), (74, 0), (75, 0), (76, 0), (77, 0), (78, 0), (79, 0), (80, 0), (81, 0), (82, 0), (83, 0), (84, 0), (85, 0), (86, 0), (87, 0), (88, 0), (89, 0), (90, 0), (91, 0), (92, 0), (93, 0), (94, 0), (95, 0), (96, 0), (97, 0), (98, 0), (99, 0), (100, 0), (101, 0), (102, 0), (103, 0), (104, 0), (105, 0), (106, 0), (107, 0), (108, 0), (109, 0), (110, 0), (111, 0), (112, 0), (113, 0), (114, 0), (115, 0), (116, 0), (117, 0), (118, 0), (119, 0), (120, 0), (121, 0), (122, 0), (123, 0), (124, 0), (125, 0), (126, 0), (127, 0), (128, 0), (129, 0), (130, 0), (131, 0), (132, 0), (133, 0), (134, 0), (135, 0), (136, 0), (137, 0), (138, 0), (139, 0), (140, 0), (141, 0), (142, 0), (143, 0), (144, 0), (145, 0), (146, 0), (147, 0), (148, 0), (149, 0), (150, 0), (151, 0), (152, 0), (153, 0), (154, 0), (155, 0), (156, 0), (157, 0), (158, 0), (159, 0), (160, 0), (161, 0), (162, 0), (163, 0), (164, 0), (165, 0), (166, 0), (167, 0), (168, 0), (169, 0), (170, 0), (171, 0), (172, 0), (173, 0), (174, 0), (175, 0), (176, 0), (177, 0), (178, 0), (179, 0), (180, 0), (181, 0), (182, 0), (183, 0), (184, 0), (185, 0), (186, 0), (187, 0), (188, 0), (189, 0), (190, 0), (191, 0), (192, 0), (193, 0), (194, 0), (195, 0), (196, 0), (197, 0), (198, 0), (199, 0), (200, 0), (201, 0), (202, 0), (203, 0), (204, 0), (205, 0), (206, 0), (207, 0), (208, 0), (209, 0), (210, 0), (211, 0), (212, 0), (213, 0), (214, 0), (215, 0), (216, 0), (217, 0), (218, 0), (219, 0), (220, 0), (221, 0), (222, 0), (223, 0), (224, 0), (225, 0), (226, 0), (227, 0), (228, 0), (229, 0), (230, 0), (231, 0), (232, 0), (233, 0), (234, 0), (235, 0), (236, 0), (237, 0), (238, 0), (239, 0), (240, 0), (241, 0), (242, 0), (243, 0), (244, 0), (245, 0), (246, 0), (247, 0), (248, 0), (249, 0), (250, 0), (251, 0), (252, 0), (253, 0), (254, 0), (255, 0), (256, 0), (257, 0), (258, 0), (259, 0), (260, 0), (261, 0), (262, 0), (263, 0), (264, 0), (0, 1), (1, 1), (2, 1), (3, 1), (4, 1), (5, 1), (6, 1), (7, 1), (8, 1), (9, 1), (10, 1), (11, 1), (12, 1), (13, 1), (14, 1), (15, 1), (16, 1), (17, 1), (18, 1), (19, 1), (20, 1), (21, 1), (22, 1), (23, 1), (24, 1), (25, 1), (26, 1), (27, 1), (28, 1), (29, 1), (30, 1), (31, 1), (32, 1), (33, 1), (34, 1), (35, 1), (36, 1), (37, 1), (38, 1), (39, 1), (40, 1), (41, 1), (42, 1), (43, 1), (44, 1), (45, 1), (46, 1), (47, 1), (48, 1), (49, 1), (50, 1), (51, 1), (52, 1), (53, 1), (54, 1), (55, 1), (56, 1), (57, 1), (58, 1), (59, 1), (60, 1), (61, 1), (62, 1), (63, 1), (64, 1), (65, 1), (66, 1), (67, 1), (68, 1), (69, 1), (70, 1), (71, 1), (72, 1), (73, 1), (74, 1), (75, 1), (76, 1), (77, 1), (78, 1), (79, 1), (80, 1), (81, 1), (82, 1), (83, 1), (84, 1), (85, 1), (86, 1), (87, 1), (88, 1), (89, 1), (90, 1), (91, 1), (92, 1), (93, 1), (94, 1), (95, 1), (96, 1), (97, 1), (98, 1), (99, 1), (100, 1), (101, 1), (102, 1), (103, 1), (104, 1), (105, 1), (106, 1), (107, 1), (108, 1), (109, 1), (110, 1), (111, 1), (112, 1), (113, 1), (114, 1), (115, 1), (116, 1), (117, 1), (118, 1), (119, 1), (120, 1), (121, 1), (122, 1), (123, 1), (124, 1), (125, 1), (126, 1), (127, 1), (128, 1), (129, 1), (130, 1), (131, 1), (132, 1), (133, 1), (134, 1), (135, 1), (136, 1), (137, 1), (138, 1), (139, 1), (140, 1), (141, 1), (142, 1), (143, 1), (144, 1), (145, 1), (146, 1), (147, 1), (148, 1), (149, 1), (150, 1), (151, 1), (152, 1), (153, 1), (154, 1), (155, 1), (156, 1), (157, 1), (158, 1), (159, 1), (160, 1), (161, 1), (162, 1), (163, 1), (164, 1), (165, 1), (166, 1), (167, 1), (168, 1), (169, 1), (170, 1), (171, 1), (172, 1), (173, 1), (174, 1), (175, 1), (176, 1), (177, 1), (178, 1), (179, 1), (180, 1), (181, 1), (182, 1), (183, 1), (184, 1), (185, 1), (186, 1), (187, 1), (188, 1), (189, 1), (190, 1), (191, 1), (192, 1), (193, 1), (194, 1), (195, 1), (196, 1), (197, 1), (198, 1), (199, 1), (200, 1), (201, 1), (202, 1), (203, 1), (204, 1), (205, 1), (206, 1), (207, 1), (208, 1), (209, 1), (210, 1), (211, 1), (212, 1), (213, 1), (214, 1), (215, 1), (216, 1), (217, 1), (218, 1), (219, 1), (220, 1), (221, 1), (222, 1), (223, 1), (224, 1), (225, 1), (226, 1), (227, 1), (228, 1), (229, 1), (230, 1), (231, 1), (232, 1), (233, 1), (234, 1), (235, 1), (236, 1), (237, 1), (238, 1), (239, 1), (240, 1), (241, 1), (242, 1), (243, 1), (244, 1), (245, 1), (246, 1), (247, 1), (248, 1), (249, 1), (250, 1), (251, 1), (252, 1), (253, 1), (254, 1), (255, 1), (256, 1), (257, 1), (258, 1), (259, 1), (260, 1), (261, 1), (262, 1), (263, 1), (264, 1)])"
      ]
     },
     "execution_count": 52,
     "metadata": {},
     "output_type": "execute_result"
    }
   ],
   "source": [
    "v1.keys()"
   ]
  },
  {
   "cell_type": "code",
   "execution_count": 43,
   "id": "b33f284d",
   "metadata": {},
   "outputs": [],
   "source": [
    "max1 = find_bin_max(v1, 7)\n",
    "max2 = find_bin_max(v2, 7)"
   ]
  },
  {
   "cell_type": "code",
   "execution_count": 61,
   "id": "6cdc61fd",
   "metadata": {},
   "outputs": [
    {
     "data": {
      "text/plain": [
       "35"
      ]
     },
     "execution_count": 61,
     "metadata": {},
     "output_type": "execute_result"
    }
   ],
   "source": [
    "len(max1)"
   ]
  },
  {
   "cell_type": "code",
   "execution_count": 44,
   "id": "d996b6b6",
   "metadata": {},
   "outputs": [],
   "source": [
    "pairs = find_freq_pairs(max1, max2)"
   ]
  },
  {
   "cell_type": "code",
   "execution_count": 57,
   "id": "fd253b38",
   "metadata": {},
   "outputs": [
    {
     "name": "stdout",
     "output_type": "stream",
     "text": [
      "4471776\n"
     ]
    }
   ],
   "source": [
    "print(len(pairs))"
   ]
  },
  {
   "cell_type": "code",
   "execution_count": 45,
   "id": "bfc04c3e",
   "metadata": {},
   "outputs": [
    {
     "name": "stdout",
     "output_type": "stream",
     "text": [
      "223 43.06640625 5.178\n"
     ]
    }
   ],
   "source": [
    "rate = 44100\n",
    "fft_bin_size = 1024\n",
    "\n",
    "delay = find_delay(pairs)\n",
    "samples_per_sec = float(rate) / float(fft_bin_size)\n",
    "seconds= round(float(delay) / float(samples_per_sec), 4)\n",
    "\n",
    "print(delay, samples_per_sec, seconds)"
   ]
  },
  {
   "cell_type": "code",
   "execution_count": null,
   "id": "7e76d51e",
   "metadata": {},
   "outputs": [],
   "source": []
  },
  {
   "cell_type": "code",
   "execution_count": 47,
   "id": "76731662",
   "metadata": {},
   "outputs": [],
   "source": [
    "def get_delay(src1, src2, rate, fft_bin_size=1024):\n",
    "    h1 = make_horiz_bins(src1, 1024, 0, 512)\n",
    "    v1 = make_vert_bins(h1, 43)\n",
    "    max1 = find_bin_max(v1, 7)\n",
    "    \n",
    "    h2 = make_horiz_bins(src2, 1024, 0, 512)\n",
    "    v2 = make_vert_bins(h2, 43)\n",
    "    max2 = find_bin_max(v2, 7)\n",
    "    \n",
    "    pairs = find_freq_pairs(max1, max2)\n",
    "\n",
    "    delay = find_delay(pairs)\n",
    "    samples_per_sec = float(rate) / float(fft_bin_size)\n",
    "    seconds= round(float(delay) / float(samples_per_sec), 4)\n",
    "    \n",
    "    return seconds"
   ]
  },
  {
   "cell_type": "code",
   "execution_count": 48,
   "id": "3bac50ee",
   "metadata": {},
   "outputs": [
    {
     "name": "stdout",
     "output_type": "stream",
     "text": [
      "-43.0962\n",
      "Total Time: 20.782562\n"
     ]
    }
   ],
   "source": [
    "import datetime as dt\n",
    "\n",
    "start_time = dt.datetime.now()\n",
    "print(get_delay(audios[0]['data'], audios[1]['data'], audios[0]['rate']))\n",
    "print(f'Total Time: {(dt.datetime.now() - start_time).total_seconds()}')"
   ]
  }
 ],
 "metadata": {
  "kernelspec": {
   "display_name": "Python 3 (ipykernel)",
   "language": "python",
   "name": "python3"
  },
  "language_info": {
   "codemirror_mode": {
    "name": "ipython",
    "version": 3
   },
   "file_extension": ".py",
   "mimetype": "text/x-python",
   "name": "python",
   "nbconvert_exporter": "python",
   "pygments_lexer": "ipython3",
   "version": "3.8.12"
  }
 },
 "nbformat": 4,
 "nbformat_minor": 5
}
