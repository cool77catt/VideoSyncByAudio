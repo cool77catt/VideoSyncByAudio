{
 "cells": [
  {
   "cell_type": "code",
   "execution_count": 2,
   "id": "cca62267",
   "metadata": {},
   "outputs": [],
   "source": [
    "import sys\n",
    "import os\n",
    "import fnmatch\n",
    "import moviepy.editor as mp\n",
    "import matplotlib.pyplot as plt\n",
    "# import cv2\n",
    "# from ffpyplayer.player import MediaPlayer\n",
    "import scipy.io.wavfile\n",
    "import numpy as np\n",
    "from librosa import onset\n",
    "\n",
    "%matplotlib qt"
   ]
  },
  {
   "cell_type": "code",
   "execution_count": 3,
   "id": "74affdcb",
   "metadata": {},
   "outputs": [],
   "source": [
    "\n",
    "TEST_FILE_DIR = 'test-clips/greta-van-fleet'\n",
    "VIDEO_TYPES = ['*.mp4']\n",
    "AUDIO_TYPE = '.wav'\n",
    "TMP_DIR = 'tmp'\n",
    "if not os.path.exists(TMP_DIR):\n",
    "    os.mkdir(TMP_DIR)"
   ]
  },
  {
   "cell_type": "code",
   "execution_count": 4,
   "id": "07a89d88",
   "metadata": {},
   "outputs": [
    {
     "name": "stdout",
     "output_type": "stream",
     "text": [
      "loading yt5s.com-Highway Tune-Greta Van Fleet-Red Rocks.mp4\n",
      "Audio File already saved\n",
      "loading yt5s.com-Greta Van Fleet - Highway Tune - 09-23-2019 Red Rocks.mp4\n",
      "Audio File already saved\n",
      "loading yt5s.com-Greta van Fleet at Red Rocks - Highway Tune.mp4\n",
      "Audio File already saved\n"
     ]
    }
   ],
   "source": [
    "videos = []\n",
    "audio_paths = []\n",
    "for fn in os.listdir(TEST_FILE_DIR):\n",
    "    if any([fnmatch.fnmatch(fn, t) for t in VIDEO_TYPES]):\n",
    "        print(f'loading {fn}')\n",
    "\n",
    "        full_path = os.path.join(TEST_FILE_DIR, fn)\n",
    "        clip = mp.VideoFileClip(full_path)\n",
    "        videos.append(clip)\n",
    "\n",
    "        # Save to temp audio file\n",
    "        audio_fn = os.path.splitext(fn)[0] + AUDIO_TYPE\n",
    "        audio_path = os.path.join(TMP_DIR, audio_fn)\n",
    "        if os.path.exists(audio_path):\n",
    "            print('Audio File already saved')\n",
    "        else:\n",
    "            print('Saving to temp path')\n",
    "            clip.audio.write_audiofile(audio_path)\n",
    "        audio_paths.append(audio_path)"
   ]
  },
  {
   "cell_type": "code",
   "execution_count": 17,
   "id": "4751bf86",
   "metadata": {},
   "outputs": [],
   "source": [
    "audio_signals = []\n",
    "for audio_path in audio_paths:\n",
    "    rate, data = scipy.io.wavfile.read(audio_path)\n",
    "    ch1 = np.array([d[0] for d in data])\n",
    "    ch2 = np.array([d[1] for d in data])\n",
    "    \n",
    "    ch1_float = ch1.astype(np.float32)\n",
    "    if ch1.dtype == 'int16':\n",
    "        ch1_float = ch1_float / (2 ** 15)\n",
    "        \n",
    "    \n",
    "    audio_signals.append({\n",
    "        'data': ch1,\n",
    "        'data_float': ch1_float,\n",
    "        'rate': rate,\n",
    "        'path': audio_path\n",
    "    })"
   ]
  },
  {
   "cell_type": "code",
   "execution_count": 18,
   "id": "41fc1bd7",
   "metadata": {},
   "outputs": [
    {
     "data": {
      "text/plain": [
       "array([0.        , 0.        , 0.        , ..., 0.3244629 , 0.31063843,\n",
       "       0.28622437], dtype=float32)"
      ]
     },
     "execution_count": 18,
     "metadata": {},
     "output_type": "execute_result"
    }
   ],
   "source": [
    "audio_signals[0]['data_float']"
   ]
  },
  {
   "cell_type": "code",
   "execution_count": 22,
   "id": "03c75505",
   "metadata": {},
   "outputs": [],
   "source": [
    "onset_strengths = []\n",
    "for a in audio_signals:\n",
    "    on_str = onset.onset_strength(a['data_float'], sr=a['rate'])\n",
    "    onset_strengths.append(on_str)"
   ]
  },
  {
   "cell_type": "code",
   "execution_count": 24,
   "id": "f09c8e5e",
   "metadata": {},
   "outputs": [],
   "source": [
    "plt.figure()\n",
    "for i, o in enumerate(onset_strengths):\n",
    "    plt.subplot(len(onset_strengths), 1, i+1)\n",
    "    plt.plot(o)\n",
    "plt.show()"
   ]
  }
 ],
 "metadata": {
  "kernelspec": {
   "display_name": "Python 3 (ipykernel)",
   "language": "python",
   "name": "python3"
  },
  "language_info": {
   "codemirror_mode": {
    "name": "ipython",
    "version": 3
   },
   "file_extension": ".py",
   "mimetype": "text/x-python",
   "name": "python",
   "nbconvert_exporter": "python",
   "pygments_lexer": "ipython3",
   "version": "3.8.12"
  }
 },
 "nbformat": 4,
 "nbformat_minor": 5
}
